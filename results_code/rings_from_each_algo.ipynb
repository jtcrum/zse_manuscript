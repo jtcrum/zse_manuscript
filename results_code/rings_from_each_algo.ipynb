{
 "cells": [
  {
   "cell_type": "code",
   "execution_count": 6,
   "metadata": {},
   "outputs": [],
   "source": [
    "from zse.collections import *\n",
    "from zse.rings import *\n",
    "from zse.utilities import *\n",
    "\n",
    "from collections import Counter"
   ]
  },
  {
   "cell_type": "code",
   "execution_count": 32,
   "metadata": {},
   "outputs": [],
   "source": [
    "fws = ['ABW','ACO','AFI','ANA','ATO','BCT','CHA','DFT','GIS','GME','MER','MON','NPO']"
   ]
  },
  {
   "cell_type": "markdown",
   "metadata": {},
   "source": [
    "# Latex Form"
   ]
  },
  {
   "cell_type": "markdown",
   "metadata": {},
   "source": [
    "# Goetzke Rings\n",
    "Rings using the Goetzke algorithm (cycles with no shortcuts) up to 14-MRs"
   ]
  },
  {
   "cell_type": "code",
   "execution_count": 33,
   "metadata": {},
   "outputs": [
    {
     "name": "stdout",
     "output_type": "stream",
     "text": [
      "ABW T1\n",
      "4_{2}\\bullet6_{3}\\bullet8_{4}\n",
      "ACO T1\n",
      "4_{3}\\bullet6_{3}\\bullet8_{6}\\bullet10_{15}\n",
      "AFI T1\n",
      "4_{1}\\bullet6_{13}\\bullet12_{1}\\bullet14_{7}\n",
      "ANA T1\n",
      "4_{2}\\bullet6_{2}\\bullet8_{16}\n",
      "ATO T1\n",
      "4_{1}\\bullet6_{9}\\bullet8_{8}\\bullet12_{20}\n",
      "BCT T1\n",
      "4_{1}\\bullet6_{6}\\bullet8_{20}\n",
      "CHA T1\n",
      "4_{3}\\bullet6_{1}\\bullet8_{6}\\bullet12_{1}\n",
      "DFT T1\n",
      "4_{2}\\bullet6_{6}\\bullet8_{10}\\bullet10_{10}\n",
      "GIS T1\n",
      "4_{3}\\bullet8_{4}\n",
      "GME T1\n",
      "4_{3}\\bullet6_{1}\\bullet8_{6}\\bullet12_{7}\n",
      "MER T1\n",
      "4_{3}\\bullet8_{4}\\bullet10_{10}\\bullet14_{14}\n",
      "MON T1\n",
      "4_{1}\\bullet5_{5}\\bullet8_{6}\n",
      "NPO T1\n",
      "3_{1}\\bullet6_{6}\\bullet12_{40}\n"
     ]
    }
   ],
   "source": [
    "for f in fws:\n",
    "    z = framework(f)\n",
    "    ts,tm,ti = get_tsites(f)\n",
    "    for i in ti:\n",
    "        c,r,ra,a = get_rings(z,i,max_ring=14)\n",
    "        print(f,ts[0])\n",
    "        counts = sorted(Counter(c).items())\n",
    "        text = ''\n",
    "        for v in counts:\n",
    "            text+='{0}_{{{1}}}\\\\bullet'.format(v[0],v[1])\n",
    "        text = text.rstrip('\\\\bullet')\n",
    "        print(text)\n"
   ]
  },
  {
   "cell_type": "markdown",
   "metadata": {},
   "source": [
    "# Sastre Ring\n",
    "Rings found using the Sastre method (each cycle is the shortest cycle connecting at least one set of oxy-oxy neighbors) up to 14-MRs"
   ]
  },
  {
   "cell_type": "code",
   "execution_count": 34,
   "metadata": {},
   "outputs": [
    {
     "name": "stdout",
     "output_type": "stream",
     "text": [
      "ABW T1\n",
      "4_{2}\\bullet6_{3}\\bullet8_{4}\n",
      "ACO T1\n",
      "4_{3}\\bullet8_{6}\n",
      "AFI T1\n",
      "4_{1}\\bullet6_{13}\n",
      "ANA T1\n",
      "4_{2}\\bullet6_{2}\\bullet8_{16}\n",
      "ATO T1\n",
      "4_{1}\\bullet6_{9}\n",
      "BCT T1\n",
      "4_{1}\\bullet6_{6}\n",
      "CHA T1\n",
      "4_{3}\\bullet6_{1}\\bullet8_{2}\n",
      "DFT T1\n",
      "4_{2}\\bullet6_{6}\\bullet8_{10}\n",
      "GIS T1\n",
      "4_{3}\\bullet8_{4}\n",
      "GME T1\n",
      "4_{3}\\bullet6_{1}\\bullet8_{2}\n",
      "MER T1\n",
      "4_{3}\\bullet8_{4}\n",
      "MON T1\n",
      "4_{1}\\bullet5_{5}\\bullet8_{6}\n",
      "NPO T1\n",
      "3_{1}\\bullet6_{6}\n"
     ]
    }
   ],
   "source": [
    "for f in fws:\n",
    "    z = framework(f)\n",
    "    ts,tm,ti = get_tsites(f)\n",
    "    for i in ti:\n",
    "        c,r,ra,a = get_rings(z,i,validation='sastre',max_ring=14)\n",
    "        print(f,ts[0])\n",
    "        counts = sorted(Counter(c).items())\n",
    "        text = ''\n",
    "        for v in counts:\n",
    "            text+='{0}_{{{1}}}\\\\bullet'.format(v[0],v[1])\n",
    "        text = text.rstrip('\\\\bullet')\n",
    "        print(text)\n",
    "\n"
   ]
  },
  {
   "cell_type": "markdown",
   "metadata": {},
   "source": [
    "# Crum Rings\n",
    "Rings found using our new rule (all rings from the Goetzke method, minus rings that traverse two stacked rings) up to 14-MRs"
   ]
  },
  {
   "cell_type": "code",
   "execution_count": 35,
   "metadata": {},
   "outputs": [
    {
     "name": "stdout",
     "output_type": "stream",
     "text": [
      "ABW T1\n",
      "4_{2}\\bullet6_{3}\\bullet8_{4}\n",
      "ACO T1\n",
      "4_{3}\\bullet8_{6}\n",
      "AFI T1\n",
      "4_{1}\\bullet6_{13}\\bullet12_{1}\n",
      "ANA T1\n",
      "4_{2}\\bullet6_{2}\\bullet8_{16}\n",
      "ATO T1\n",
      "4_{1}\\bullet6_{9}\\bullet12_{20}\n",
      "BCT T1\n",
      "4_{1}\\bullet6_{6}\\bullet8_{12}\n",
      "CHA T1\n",
      "4_{3}\\bullet6_{1}\\bullet8_{2}\\bullet12_{1}\n",
      "DFT T1\n",
      "4_{2}\\bullet6_{6}\\bullet8_{10}\n",
      "GIS T1\n",
      "4_{3}\\bullet8_{4}\n",
      "GME T1\n",
      "4_{3}\\bullet6_{1}\\bullet8_{2}\\bullet12_{1}\n",
      "MER T1\n",
      "4_{3}\\bullet8_{4}\n",
      "MON T1\n",
      "4_{1}\\bullet5_{5}\\bullet8_{6}\n",
      "NPO T1\n",
      "3_{1}\\bullet6_{6}\\bullet12_{40}\n"
     ]
    }
   ],
   "source": [
    "for f in fws:\n",
    "    z = framework(f)\n",
    "    ts,tm,ti = get_tsites(f)\n",
    "    for i in ti:\n",
    "        c,r,ra,a = get_rings(z,i,validation='crum',max_ring=14)\n",
    "        print(f,ts[0])\n",
    "        counts = sorted(Counter(c).items())\n",
    "        text = ''\n",
    "        for v in counts:\n",
    "            text+='{0}_{{{1}}}\\\\bullet'.format(v[0],v[1])\n",
    "        text = text.rstrip('\\\\bullet')\n",
    "        print(text)\n",
    "\n",
    "\n"
   ]
  },
  {
   "cell_type": "markdown",
   "metadata": {},
   "source": [
    "# Numeral Form"
   ]
  },
  {
   "cell_type": "markdown",
   "metadata": {},
   "source": [
    "# Goetzke Rings\n",
    "Rings using the Goetzke algorithm (cycles with no shortcuts) up to 14-MRs"
   ]
  },
  {
   "cell_type": "code",
   "execution_count": 25,
   "metadata": {},
   "outputs": [
    {
     "name": "stdout",
     "output_type": "stream",
     "text": [
      "ABW T1\n",
      "[(4, 2), (6, 3), (8, 4)]\n",
      "ACO T1\n",
      "[(4, 3), (6, 3), (8, 6), (10, 15)]\n",
      "AFI T1\n",
      "[(4, 1), (6, 13), (12, 1), (14, 7)]\n",
      "ANA T1\n",
      "[(4, 2), (6, 2), (8, 16)]\n",
      "ATO T1\n",
      "[(4, 1), (6, 9), (8, 8), (12, 20)]\n",
      "BCT T1\n",
      "[(4, 1), (6, 6), (8, 20)]\n",
      "DFT T1\n",
      "[(4, 2), (6, 6), (8, 10), (10, 10)]\n",
      "GIS T1\n",
      "[(4, 3), (8, 4)]\n",
      "MER T1\n",
      "[(4, 3), (8, 4), (10, 10), (14, 14)]\n",
      "MON T1\n",
      "[(4, 1), (5, 5), (8, 6)]\n",
      "NPO T1\n",
      "[(3, 1), (6, 6), (12, 40)]\n"
     ]
    }
   ],
   "source": [
    "for f in fws:\n",
    "    z = framework(f)\n",
    "    ts,tm,ti = get_tsites(f)\n",
    "    for i in ti:\n",
    "        c,r,ra,a = get_rings(z,i,max_ring=14)\n",
    "        print(f,ts[0])\n",
    "        counts = sorted(Counter(c).items())\n",
    "        print(counts)\n"
   ]
  },
  {
   "cell_type": "markdown",
   "metadata": {},
   "source": [
    "# Sastre Ring\n",
    "Rings found using the Sastre method (each cycle is the shortest cycle connecting at least one set of oxy-oxy neighbors) up to 14-MRs"
   ]
  },
  {
   "cell_type": "code",
   "execution_count": 30,
   "metadata": {},
   "outputs": [
    {
     "name": "stdout",
     "output_type": "stream",
     "text": [
      "ABW T1\n",
      "[(4, 2), (6, 3), (8, 4)]\n",
      "ACO T1\n",
      "[(4, 3), (8, 6)]\n",
      "AFI T1\n",
      "[(4, 1), (6, 13)]\n",
      "ANA T1\n",
      "[(4, 2), (6, 2), (8, 16)]\n",
      "ATO T1\n",
      "[(4, 1), (6, 9)]\n",
      "BCT T1\n",
      "[(4, 1), (6, 6)]\n",
      "CHA T1\n",
      "[(4, 3), (6, 1), (8, 2)]\n",
      "DFT T1\n",
      "[(4, 2), (6, 6), (8, 10)]\n",
      "ERI T1\n",
      "[(4, 3), (6, 2), (8, 1)]\n",
      "ERI T1\n",
      "[(4, 2), (6, 2), (8, 2)]\n",
      "GIS T1\n",
      "[(4, 3), (8, 4)]\n",
      "GME T1\n",
      "[(4, 3), (6, 1), (8, 2)]\n",
      "MER T1\n",
      "[(4, 3), (8, 4)]\n",
      "MON T1\n",
      "[(4, 1), (5, 5), (8, 6)]\n",
      "NPO T1\n",
      "[(3, 1), (6, 6)]\n",
      "OFF T1\n",
      "[(4, 3), (6, 2), (8, 1)]\n",
      "OFF T1\n",
      "[(4, 2), (6, 2), (8, 2)]\n"
     ]
    }
   ],
   "source": [
    "for f in fws:\n",
    "    z = framework(f)\n",
    "    ts,tm,ti = get_tsites(f)\n",
    "    for i in ti:\n",
    "        c,r,ra,a = get_rings(z,i,validation='sastre',max_ring=14)\n",
    "        print(f,ts[0])\n",
    "        counts = sorted(Counter(c).items())\n",
    "        print(counts)\n",
    "\n"
   ]
  },
  {
   "cell_type": "markdown",
   "metadata": {},
   "source": [
    "# Crum Rings\n",
    "Rings found using our new rule (all rings from the Goetzke method, minus rings that traverse two stacked rings) up to 14-MRs"
   ]
  },
  {
   "cell_type": "code",
   "execution_count": 27,
   "metadata": {},
   "outputs": [
    {
     "name": "stdout",
     "output_type": "stream",
     "text": [
      "ABW T1\n",
      "[(4, 2), (6, 3), (8, 4)]\n",
      "ACO T1\n",
      "[(4, 3), (8, 6)]\n",
      "AFI T1\n",
      "[(4, 1), (6, 13), (12, 1)]\n",
      "ANA T1\n",
      "[(4, 2), (6, 2), (8, 16)]\n",
      "ATO T1\n",
      "[(4, 1), (6, 9), (12, 20)]\n",
      "BCT T1\n",
      "[(4, 1), (6, 6), (8, 12)]\n",
      "DFT T1\n",
      "[(4, 2), (6, 6), (8, 10)]\n",
      "GIS T1\n",
      "[(4, 3), (8, 4)]\n",
      "MER T1\n",
      "[(4, 3), (8, 4)]\n",
      "MON T1\n",
      "[(4, 1), (5, 5), (8, 6)]\n",
      "NPO T1\n",
      "[(3, 1), (6, 6), (12, 40)]\n"
     ]
    }
   ],
   "source": [
    "for f in fws:\n",
    "    z = framework(f)\n",
    "    ts,tm,ti = get_tsites(f)\n",
    "    for i in ti:\n",
    "        c,r,ra,a = get_rings(z,i,validation='crum',max_ring=14)\n",
    "        print(f,ts[0])\n",
    "        counts = sorted(Counter(c).items())\n",
    "        print(counts)\n",
    "\n",
    "\n"
   ]
  },
  {
   "cell_type": "code",
   "execution_count": 31,
   "metadata": {},
   "outputs": [
    {
     "name": "stdout",
     "output_type": "stream",
     "text": [
      "['T1', 'T2']\n",
      "[12, 6]\n"
     ]
    }
   ],
   "source": [
    "ts,tm,ti = get_tsites('OFF')\n",
    "print(ts)\n",
    "print(tm)"
   ]
  },
  {
   "cell_type": "code",
   "execution_count": null,
   "metadata": {},
   "outputs": [],
   "source": []
  }
 ],
 "metadata": {
  "kernelspec": {
   "display_name": "Python 3",
   "language": "python",
   "name": "python3"
  },
  "language_info": {
   "codemirror_mode": {
    "name": "ipython",
    "version": 3
   },
   "file_extension": ".py",
   "mimetype": "text/x-python",
   "name": "python",
   "nbconvert_exporter": "python",
   "pygments_lexer": "ipython3",
   "version": "3.7.6"
  }
 },
 "nbformat": 4,
 "nbformat_minor": 4
}
