{
 "cells": [
  {
   "cell_type": "code",
   "execution_count": 1,
   "metadata": {},
   "outputs": [],
   "source": [
    "import matplotlib.pyplot as plt\n",
    "\n",
    "import numpy as np\n",
    "\n",
    "import pandas as pd\n",
    "\n",
    "from zse.collections import *\n",
    "from zse.utilities import *\n",
    "\n",
    "from matplotlib import cm"
   ]
  },
  {
   "cell_type": "code",
   "execution_count": 2,
   "metadata": {},
   "outputs": [],
   "source": [
    "def get_fw_data(file,code):\n",
    "    file = open(file,'r')\n",
    "    data = file.readlines()\n",
    "    file.close()\n",
    "    \n",
    "    for i,line in enumerate(data):\n",
    "        fields = line.split()\n",
    "        if fields[0] == code:\n",
    "            start = i\n",
    "            break\n",
    "    \n",
    "    # go through fw chunk and get data\n",
    "    \n",
    "    t_sites = {}\n",
    "    o_sites = {}\n",
    "    for i,line in enumerate(data[start+1:]):\n",
    "        line = line.rstrip(' \\n')\n",
    "        \n",
    "        # check if the rings exist\n",
    "        \n",
    "#         if 'FAILED' in line or 'LARGE' in line:\n",
    "#             return(False,False)\n",
    "#         fields = line.split()\n",
    "        \n",
    "        # get the t site rings\n",
    "        \n",
    "        if 'T' in line and ':' in line:\n",
    "            fields = line.split(':')\n",
    "            t_sites[fields[0]]=fields[1]\n",
    "#         for x in t_sites:\n",
    "#             r = t_sites[x].split('_')\n",
    "#             if len(r)>20:\n",
    "#                 return(False,False)\n",
    "                \n",
    "        \n",
    "        # get the o site rings\n",
    "        if 'O' in line and ':' in line:\n",
    "            fields = line.split(':')\n",
    "            o_sites[fields[0]]=fields[1]\n",
    "#         for x in o_sites:\n",
    "#             r = o_sites[x]\n",
    "#             if len(r)>20:\n",
    "#                 return(False,False)\n",
    "        \n",
    "        \n",
    "        \n",
    "        fields = line.split()\n",
    "        if fields[0] == 'Framework':\n",
    "            end = i+start-1\n",
    "            break\n",
    "\n",
    "    return(t_sites,o_sites)    "
   ]
  },
  {
   "cell_type": "code",
   "execution_count": 28,
   "metadata": {},
   "outputs": [],
   "source": [
    "fws = get_all_fws()\n",
    "file = 'sastre_rings.txt'\n",
    "data= []\n",
    "for f in fws:\n",
    "    tsites,osites = get_fw_data(file,f)\n",
    "    for t in tsites:\n",
    "        ring_list = [int(x) for x in tsites[t].split('_')]\n",
    "        temp = [0]*19\n",
    "        for r in ring_list:\n",
    "            temp[r]+=1\n",
    "        temp.insert(0,t)\n",
    "        temp.insert(0,f)\n",
    "        data.append(temp)\n",
    "    break"
   ]
  },
  {
   "cell_type": "code",
   "execution_count": 29,
   "metadata": {},
   "outputs": [
    {
     "name": "stdout",
     "output_type": "stream",
     "text": [
      "[['ABW', 'T1', 0, 0, 0, 0, 2, 0, 3, 0, 4, 0, 0, 0, 0, 0, 0, 0, 0, 0, 0]]\n"
     ]
    }
   ],
   "source": [
    "print(data)"
   ]
  },
  {
   "cell_type": "code",
   "execution_count": null,
   "metadata": {},
   "outputs": [],
   "source": []
  }
 ],
 "metadata": {
  "kernelspec": {
   "display_name": "Python 3",
   "language": "python",
   "name": "python3"
  },
  "language_info": {
   "codemirror_mode": {
    "name": "ipython",
    "version": 3
   },
   "file_extension": ".py",
   "mimetype": "text/x-python",
   "name": "python",
   "nbconvert_exporter": "python",
   "pygments_lexer": "ipython3",
   "version": "3.7.6"
  }
 },
 "nbformat": 4,
 "nbformat_minor": 4
}
