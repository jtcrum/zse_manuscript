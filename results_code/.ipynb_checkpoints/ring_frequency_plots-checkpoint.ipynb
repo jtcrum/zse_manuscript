{
 "cells": [
  {
   "cell_type": "code",
   "execution_count": 11,
   "metadata": {},
   "outputs": [],
   "source": [
    "import matplotlib.pyplot as plt\n",
    "\n",
    "import numpy as np\n",
    "\n",
    "import pandas as pd\n",
    "\n",
    "from zse.collections import *\n",
    "from zse.utilities import *\n",
    "\n",
    "from matplotlib import cm"
   ]
  },
  {
   "cell_type": "code",
   "execution_count": 2,
   "metadata": {},
   "outputs": [],
   "source": [
    "f = open('crum_rings.txt','r')\n",
    "alllines=f.readlines()\n",
    "f.close()"
   ]
  },
  {
   "cell_type": "code",
   "execution_count": 2,
   "metadata": {},
   "outputs": [],
   "source": [
    "def get_fw_data(file,code):\n",
    "    file = open(file,'r')\n",
    "    data = file.readlines()\n",
    "    file.close()\n",
    "    \n",
    "    for i,line in enumerate(data):\n",
    "        fields = line.split()\n",
    "        if fields[0] == code:\n",
    "            start = i\n",
    "            break\n",
    "    \n",
    "    # go through fw chunk and get data\n",
    "    \n",
    "    t_sites = {}\n",
    "    o_sites = {}\n",
    "    for i,line in enumerate(data[start+1:]):\n",
    "        line = line.rstrip(' \\n')\n",
    "        \n",
    "        # check if the rings exist\n",
    "        \n",
    "#         if 'FAILED' in line or 'LARGE' in line:\n",
    "#             return(False,False)\n",
    "#         fields = line.split()\n",
    "        \n",
    "        # get the t site rings\n",
    "        \n",
    "        if 'T' in line and ':' in line:\n",
    "            fields = line.split(':')\n",
    "            t_sites[fields[0]]=fields[1]\n",
    "#         for x in t_sites:\n",
    "#             r = t_sites[x].split('_')\n",
    "#             if len(r)>20:\n",
    "#                 return(False,False)\n",
    "                \n",
    "        \n",
    "        # get the o site rings\n",
    "        if 'O' in line and ':' in line:\n",
    "            fields = line.split(':')\n",
    "            o_sites[fields[0]]=fields[1]\n",
    "#         for x in o_sites:\n",
    "#             r = o_sites[x]\n",
    "#             if len(r)>20:\n",
    "#                 return(False,False)\n",
    "        \n",
    "        \n",
    "        \n",
    "        fields = line.split()\n",
    "        if fields[0] == 'Framework':\n",
    "            end = i+start-1\n",
    "            break\n",
    "\n",
    "    return(t_sites,o_sites)    "
   ]
  },
  {
   "cell_type": "code",
   "execution_count": 5,
   "metadata": {},
   "outputs": [
    {
     "name": "stdout",
     "output_type": "stream",
     "text": [
      "[  0.   0.   0.  24. 237. 121. 229.   7. 193.  12. 141.   3. 145.   1.\n",
      "  59.   2.  16.   0.  21.]\n"
     ]
    }
   ],
   "source": [
    "file = 'goetzke_rings.txt'\n",
    "fws = get_all_fws()\n",
    "g_counts = np.zeros(19)\n",
    "for f in fws:\n",
    "    tsites,osites = get_fw_data(file,f)\n",
    "    frings = []\n",
    "    for t in tsites:\n",
    "        trings = tsites[t].split('_')\n",
    "        frings += [int(x) for x in trings]\n",
    "    frings = np.unique(frings)\n",
    "    for x in frings:\n",
    "        if x <=18:\n",
    "            g_counts[x]+=1\n",
    "print(g_counts)"
   ]
  },
  {
   "cell_type": "code",
   "execution_count": 6,
   "metadata": {},
   "outputs": [
    {
     "name": "stdout",
     "output_type": "stream",
     "text": [
      "[  0.   0.   0.  24. 237. 121. 224.   7. 154.  12.  85.   3. 109.   1.\n",
      "  15.   2.   4.   0.   7.]\n"
     ]
    }
   ],
   "source": [
    "file = 'crum_rings.txt'\n",
    "fws = get_all_fws()\n",
    "c_counts = np.zeros(19)\n",
    "for f in fws:\n",
    "    tsites,osites = get_fw_data(file,f)\n",
    "    frings = []\n",
    "    for t in tsites:\n",
    "        trings = tsites[t].split('_')\n",
    "        frings += [int(x) for x in trings]\n",
    "    frings = np.unique(frings)\n",
    "    for x in frings:\n",
    "        if x <=18:\n",
    "            c_counts[x]+=1\n",
    "print(c_counts)"
   ]
  },
  {
   "cell_type": "code",
   "execution_count": 7,
   "metadata": {},
   "outputs": [
    {
     "name": "stdout",
     "output_type": "stream",
     "text": [
      "[  0.   0.   0.  24. 236. 120. 218.   5. 147.  12.  74.   2.  73.   0.\n",
      "  10.   1.   2.   0.   5.]\n"
     ]
    }
   ],
   "source": [
    "iza = pd.read_csv('iza_data.csv')\n",
    "fws = iza['Framework'].values\n",
    "rings = iza['Rings'].values\n",
    "i_counts = np.zeros(19)\n",
    "for r in rings:\n",
    "    frings = []\n",
    "    if type(r) == str:\n",
    "        r = r.split('_')\n",
    "        frings += [int(x) for x in r]\n",
    "    frings = np.unique(frings)\n",
    "    for x in frings:\n",
    "        if x <=18:\n",
    "            i_counts[x]+=1\n",
    "print(i_counts)"
   ]
  },
  {
   "cell_type": "code",
   "execution_count": 8,
   "metadata": {},
   "outputs": [
    {
     "name": "stdout",
     "output_type": "stream",
     "text": [
      "[  0.   0.   0.  24. 237. 121. 219.   7. 148.  10.  75.   3.  73.   0.\n",
      "  10.   1.   4.   0.   1.]\n"
     ]
    }
   ],
   "source": [
    "# count using vertex symbol rings\n",
    "file = 'vertex_rings.txt'\n",
    "fws = get_all_fws()\n",
    "v_counts = np.zeros(19)\n",
    "for f in fws:\n",
    "    tsites,osites = get_fw_data(file,f)\n",
    "    frings = []\n",
    "    for t in tsites:\n",
    "        trings = tsites[t].split('_')\n",
    "        frings += [int(x) for x in trings]\n",
    "    frings = np.unique(frings)\n",
    "    for x in frings:\n",
    "        if x <=18:\n",
    "            v_counts[x]+=1\n",
    "print(v_counts)"
   ]
  },
  {
   "cell_type": "code",
   "execution_count": 24,
   "metadata": {},
   "outputs": [
    {
     "name": "stdout",
     "output_type": "stream",
     "text": [
      "[  0.   0.   0.  24. 237. 121. 219.   7. 148.  10.  75.   3.  73.   0.\n",
      "  10.   1.   4.   0.   1.]\n"
     ]
    }
   ],
   "source": [
    "# count using Sastre rings\n",
    "file = 'sastre_rings.txt'\n",
    "fws = get_all_fws()\n",
    "s_counts = np.zeros(19)\n",
    "for f in fws:\n",
    "    tsites,osites = get_fw_data(file,f)\n",
    "    frings = []\n",
    "    for t in tsites:\n",
    "        trings = tsites[t].split('_')\n",
    "        frings += [int(x) for x in trings]\n",
    "    frings = np.unique(frings)\n",
    "    for x in frings:\n",
    "        if x <=18:\n",
    "            s_counts[x]+=1\n",
    "print(s_counts)"
   ]
  },
  {
   "cell_type": "code",
   "execution_count": 30,
   "metadata": {},
   "outputs": [
    {
     "data": {
      "image/png": "[encoded data removed]",
      "text/plain": [
       "<Figure size 432x288 with 1 Axes>"
      ]
     },
     "metadata": {
      "needs_background": "light"
     },
     "output_type": "display_data"
    }
   ],
   "source": [
    "viridis = cm.get_cmap('tab20c',7)\n",
    "\n",
    "ring_sizes = np.arange(19)\n",
    "width = 0.17\n",
    "plt.bar(ring_sizes,g_counts,width,label='Goetzke Rings',color = viridis.colors[0])\n",
    "plt.bar(ring_sizes+width,c_counts,width,label='Crum Rings',color = viridis.colors[1])\n",
    "plt.bar(ring_sizes+2*width, i_counts,width,label='IZA Rings',color = viridis.colors[2])\n",
    "plt.bar(ring_sizes+4*width, s_counts,width,label='Sastre Rings',color=viridis.colors[3])\n",
    "plt.bar(ring_sizes+3*width, v_counts,width,label='Vertex Rings',color=viridis.colors[4])\n",
    "\n",
    "plt.xlim([2,19])\n",
    "plt.xticks(np.arange(3,19)+2*width/2,np.arange(3,19))\n",
    "#plt.yticks([])\n",
    "plt.ylabel('Count',weight='bold')\n",
    "plt.xlabel('Ring Size (-MR)',weight='bold')\n",
    "plt.tight_layout()\n",
    "plt.legend()\n",
    "plt.savefig('../figures/completed-figures/ring-counts.pdf',dpi=300)\n",
    "plt.show()"
   ]
  },
  {
   "cell_type": "code",
   "execution_count": 45,
   "metadata": {},
   "outputs": [
    {
     "name": "stdout",
     "output_type": "stream",
     "text": [
      "1 ABW [8 6 4]\n",
      "2 ACO [8 4]\n",
      "3 AEI [8 6 4]\n",
      "4 AEL [10  6  4]\n",
      "5 AEN [8 6 4]\n",
      "6 AET [14  6  4]\n",
      "7 AFG [6 4]\n",
      "8 AFI [12  6  4]\n",
      "9 AFN [8 6 4]\n",
      "10 AFO [10  6  4]\n",
      "11 AFR [12  8  6  4]\n",
      "12 AFS [12  8  6  4]\n",
      "13 AFT [8 6 4]\n",
      "14 AFV [8 6 4]\n",
      "15 AFX [8 6 4]\n",
      "16 AFY [12  8  4]\n",
      "17 AHT [10  6  4]\n",
      "18 ANA [8 6 4]\n",
      "19 APC [8 6 4]\n",
      "20 APD [8 6 4]\n",
      "21 AST [6 4]\n",
      "22 ASV [12  6  4]\n",
      "23 ATN [8 6 4]\n",
      "24 ATO [12  6  4]\n",
      "25 ATS [12  6  4]\n",
      "26 ATT [8 6 4]\n",
      "27 ATV [8 6 4]\n",
      "28 AVE [8 6 4]\n",
      "29 AVL [8 6 4]\n",
      "30 AWO [8 6 4]\n",
      "31 AWW [8 6 4]\n",
      "32 BCT [8 6 4]\n",
      "33 BEA [12  6  5  4]\n",
      "34 BEC [12  6  5  4]\n",
      "35 BIK [8 6 5]\n",
      "36 BOF [10  6  5  4]\n",
      "37 BOG [12 10  6  5  4]\n",
      "38 BOZ [10  8  6  4  3]\n",
      "39 BPH [12  8  6  4]\n",
      "40 BRE [8 6 5 4]\n",
      "41 BSV [12  6  4]\n",
      "42 CAN [12  6  4]\n",
      "43 CAS [8 6 5]\n",
      "44 CDO [8 5]\n",
      "45 CFI [14  6  5  4]\n",
      "46 CGF [10  8  6  4]\n",
      "47 CGS [10  8  6  4]\n",
      "48 CHA [8 6 4]\n",
      "49 CHI [9 6 5 4]\n",
      "50 CLO [20  8  6  4]\n",
      "51 CON [12 10  6  5  4]\n",
      "52 CSV [10  8  6  5  4]\n",
      "53 CTH [14 10  6  5  4]\n",
      "54 CZP [12  8  4]\n",
      "55 DAC [10  8  5  4]\n",
      "56 DDR [8 6 5 4]\n",
      "57 DFO [12 10  8  6  4]\n",
      "58 DFT [8 6 4]\n",
      "59 DOH [6 5 4]\n",
      "60 DON [14  6  5  4]\n",
      "61 EAB [8 6 4]\n",
      "62 EDI [8 4]\n",
      "63 EEI [8 6 5 4]\n",
      "64 EMT [12  6  4]\n",
      "65 EON [12  8  6  5  4]\n",
      "66 EPI [8 5 4]\n",
      "67 ERI [8 6 4]\n",
      "68 ESV [8 6 5 4]\n",
      "69 ETL [0 0 0]\n",
      "70 ETR [18  8  6  4]\n",
      "71 ETV [0 0 0]\n",
      "72 EUO [10  6  5  4]\n",
      "73 EWO [0 0 0]\n",
      "74 EWS [10  6  5  4]\n",
      "75 EWT [21 10  6  5  4]\n",
      "76 EZT [12  8  6  4]\n",
      "77 FAR [6 4]\n",
      "78 FAU [12  6  4]\n",
      "79 FER [10  8  6  5]\n",
      "80 FRA [6 4]\n",
      "81 GIS [8 4]\n",
      "82 GIU [6 4]\n",
      "83 GME [12  8  6  4]\n",
      "84 GON [12  6  5  4]\n",
      "85 GOO [8 6 4]\n",
      "86 HEU [10  8  5  4]\n",
      "87 IFO [16  6  4]\n",
      "88 IFR [12  6  5  4]\n",
      "89 IFT [14  6  5  4  3]\n",
      "90 IFU [20 14 12  8  6  5  4]\n",
      "91 IFW [10  8  6  5  4]\n",
      "92 IFY [8 6 4]\n",
      "93 IHW [8 6 5 4]\n",
      "94 IMF [10  6  5  4]\n",
      "95 IRN [8 7 6 5 4]\n",
      "96 IRR [18 12  6  5  4  3]\n",
      "97 IRY [16 15  6  5  4  3]\n",
      "98 ISV [12  6  5  4]\n",
      "99 ITE [8 6 5 4]\n",
      "100 ITG [12 10  6  5  4]\n",
      "101 ITH [10  9  6  5  4]\n",
      "102 ITN [12 10  6  5  4]\n",
      "103 ITR [10  9  6  5  4]\n",
      "104 ITT [18 10  6  5  4  3]\n",
      "105 ITV [30  6  4]\n",
      "106 ITW [8 6 5 4]\n",
      "107 IWR [12 10  6  5  4]\n",
      "108 IWS [12  6  5  4]\n",
      "109 IWV [12  6  5  4]\n",
      "110 IWW [12 10  8  6  5  4]\n",
      "111 JBW [8 6 4]\n",
      "112 JNT [8 6 4]\n",
      "113 JOZ [8 4 3]\n",
      "114 JRY [10  6  4]\n",
      "115 JSN [8 6 4]\n",
      "116 JSR [11  6  4  3]\n",
      "117 JST [10  6  3]\n",
      "118 JSW [8 6 4]\n",
      "119 KFI [8 6 4]\n",
      "120 LAU [10  6  4]\n",
      "121 LEV [8 6 4]\n",
      "122 LIO [6 4]\n",
      "123 LIT [10  8  6  4]\n",
      "124 LOS [6 4]\n",
      "125 LOV [9 8 6 4 3]\n",
      "126 LTA [8 6 4]\n",
      "127 LTF [12  8  6  5  4]\n",
      "128 LTJ [8 6 4]\n",
      "129 LTL [12  8  6  4]\n",
      "130 LTN [8 6 4]\n",
      "131 MAR [6 4]\n",
      "132 MAZ [12  8  6  5  4]\n",
      "133 MEI [12  7  5  4  3]\n",
      "134 MEL [10  8  6  5  4]\n",
      "135 MEP [6 5]\n",
      "136 MER [8 4]\n",
      "137 MFI [10  6  5  4]\n",
      "138 MFS [10  8  6  5  4]\n",
      "139 MON [8 5 4]\n",
      "140 MOR [12  8  5  4]\n",
      "141 MOZ [12  8  6  4]\n",
      "142 MRE [10  6  5  4]\n",
      "143 MRT [8 6 4]\n",
      "144 MSE [12 10  6  5  4]\n",
      "145 MSO [6 4]\n",
      "146 MTF [8 6 5 4]\n",
      "147 MTN [6 5]\n",
      "148 MTT [10  6  5]\n",
      "149 MTW [12  6  5  4]\n",
      "150 MVY [10  6  4]\n",
      "151 MWF [8 6 4]\n",
      "152 MWW [10  6  5  4]\n",
      "153 NAB [9 8 4 3]\n",
      "154 NAT [9 8 4]\n",
      "155 NES [10  6  5  4]\n",
      "156 NON [6 5 4]\n",
      "157 NPO [12  6  3]\n",
      "158 NPT [8 4 3]\n",
      "159 NSI [8 6 5]\n",
      "160 OBW [10  8  4  3]\n",
      "161 OFF [12  8  6  4]\n",
      "162 OKO [12 10  6  5  4]\n",
      "163 OSI [12  6  4]\n",
      "164 OSO [14  8  3]\n",
      "165 OWE [8 6 4]\n",
      "166 PAR [10  8  6  5  4]\n",
      "167 PAU [8 6 4]\n",
      "168 PCR [12 10  8  6  5]\n",
      "169 PCS [12 10  8  6  5  4]\n",
      "170 PHI [8 4]\n",
      "171 PON [10  6  4]\n",
      "172 POR [8 6 4]\n",
      "173 POS [12 11  6  5  4]\n",
      "174 PSI [10  8  6  4]\n",
      "175 PTT [0 0 0]\n",
      "176 PTY [0 0 0]\n",
      "177 PUN [12 10  8  4  3]\n",
      "178 PWN [8 6 4]\n",
      "179 PWO [9 5 4]\n",
      "180 PWW [10  8  5  4]\n",
      "181 RHO [8 6 4]\n",
      "182 RON [12 10  6  4  3]\n",
      "183 RRO [10  8  5  4]\n",
      "184 RSN [9 8 6 5 4 3]\n",
      "185 RTE [8 6 5 4]\n",
      "186 RTH [8 6 5 4]\n",
      "187 RUT [6 5 4]\n",
      "188 RWR [8 6 5 4]\n",
      "189 RWY [12  8  3]\n",
      "190 SAF [12  6  4]\n",
      "191 SAO [12  6  4]\n",
      "192 SAS [8 6 4]\n",
      "193 SAT [8 6 4]\n",
      "194 SAV [8 6 4]\n",
      "195 SBE [12  8  6  4]\n",
      "196 SBN [9 8 4 3]\n",
      "197 SBS [12  8  6  4]\n",
      "198 SBT [12  8  6  4]\n",
      "199 SEW [12 10  6  5  4]\n",
      "200 SFE [12  6  5  4]\n",
      "201 SFF [10  6  5  4]\n",
      "202 SFG [10  7  6  5  4]\n",
      "203 SFH [14  6  5  4]\n",
      "204 SFN [14  6  5  4]\n",
      "205 SFO [12  8  6  4]\n",
      "206 SFS [12 10  6  5  4]\n",
      "207 SFV [12 10  8  6  5  4]\n",
      "208 SFW [8 6 4]\n",
      "209 SGT [6 5 4]\n",
      "210 SIV [8 4]\n",
      "211 SOD [6 4]\n",
      "212 SOF [12  9  5  4]\n",
      "213 SOR [12  8  6  5  4]\n",
      "214 SOS [12  8  6  4  3]\n",
      "215 SOV [12  6  5  4]\n",
      "216 SSF [12  6  5  4]\n",
      "217 SSO [18  6  5  4]\n",
      "218 SSY [12  6  5  4]\n",
      "219 STF [10  6  5  4]\n",
      "220 STI [10  8  6  5  4]\n",
      "221 STO [12  6  5  4]\n",
      "222 STT [9 7 6 5 4]\n",
      "223 STW [10  8  5  4]\n",
      "224 SVR [10  6  5  4]\n",
      "225 SVV [6 5 4]\n",
      "226 SVY [0, 0, 0]\n",
      "227 SWY [8 6 4]\n",
      "228 SYT [0 0 0]\n",
      "229 SZR [10  8  6  5  4]\n",
      "230 TER [10  6  5  4]\n",
      "231 THO [8 4]\n",
      "232 TOL [6 4]\n",
      "233 TON [10  6  5]\n",
      "234 TSC [8 6 4]\n",
      "235 TUN [10  8  6  5  4]\n",
      "236 UEI [8 6 4]\n",
      "237 UFI [8 6 4]\n",
      "238 UOE [10  8  6  5  4]\n",
      "239 UOS [10  8  6  5  4]\n",
      "240 UOV [12 10  8  6  5  4]\n",
      "241 UOZ [6 4]\n",
      "242 USI [12 10  6  4]\n",
      "243 UTL [14 12  6  5  4]\n",
      "244 UWY [12 10  6  5  4]\n",
      "245 VET [12  8  7  6  5]\n",
      "246 VFI [18  6  4]\n",
      "247 VNI [8 5 4 3]\n",
      "248 VSV [9 8 5 4 3]\n",
      "249 WEI [10  8  6  4  3]\n",
      "250 WEN [10  8  6  4]\n",
      "251 YFI [12  8  6  5  4]\n",
      "252 YUG [8 5 4]\n",
      "253 ZON [8 6 4]\n"
     ]
    }
   ],
   "source": [
    "i = 1\n",
    "for f in sorted(fws):\n",
    "    r = get_ring_sizes(f)\n",
    "    print(i,f,r)\n",
    "    i+=1"
   ]
  },
  {
   "cell_type": "code",
   "execution_count": 43,
   "metadata": {},
   "outputs": [
    {
     "name": "stdout",
     "output_type": "stream",
     "text": [
      "253\n"
     ]
    }
   ],
   "source": [
    "print(len(fws))"
   ]
  },
  {
   "cell_type": "markdown",
   "metadata": {},
   "source": [
    "# Number of T and O sites through all the frameworks"
   ]
  },
  {
   "cell_type": "code",
   "execution_count": 113,
   "metadata": {
    "scrolled": false
   },
   "outputs": [
    {
     "name": "stdout",
     "output_type": "stream",
     "text": [
      "# of T-Sites 1460\n",
      "# of O-sites 3219\n"
     ]
    }
   ],
   "source": [
    "iza = pd.read_csv('iza_data.csv')\n",
    "fws = iza['Framework'].values\n",
    "iza.set_index('Framework',inplace=True)\n",
    "file = 'goetzke_rings.txt'\n",
    "fws = get_all_fws()\n",
    "t_count = 0\n",
    "o_count = 0\n",
    "for f in sorted(fws):\n",
    "    count = 0\n",
    "    count2 = 0\n",
    "    tsites,osites = get_fw_data(file,f)\n",
    "    for t in tsites:\n",
    "        t_count += 1\n",
    "    for o in osites:\n",
    "        o_count += 1\n",
    "print('# of T-Sites',t_count)\n",
    "print('# of O-sites',o_count)"
   ]
  },
  {
   "cell_type": "code",
   "execution_count": 115,
   "metadata": {},
   "outputs": [],
   "source": [
    "# of unique Goetzke T-Sites\n",
    "file = 'goetzke_rings.txt'\n",
    "fws = get_all_fws()\n",
    "t_ring_list = []\n",
    "o_ring_list = []\n",
    "for f in fws:\n",
    "    tsites,osites = get_fw_data(file,f)\n",
    "    for t in tsites:\n",
    "        t_ring_list.append(tsites[t]) \n",
    "    for o in osites:\n",
    "        o_ring_list.append(osites[o])\n"
   ]
  },
  {
   "cell_type": "code",
   "execution_count": 117,
   "metadata": {},
   "outputs": [
    {
     "name": "stdout",
     "output_type": "stream",
     "text": [
      "993\n",
      "1286\n"
     ]
    }
   ],
   "source": [
    "ut = np.unique(t_ring_list)\n",
    "print(len(ut))\n",
    "uo = np.unique(o_ring_list)\n",
    "print(len(uo))"
   ]
  },
  {
   "cell_type": "code",
   "execution_count": 31,
   "metadata": {},
   "outputs": [
    {
     "name": "stdout",
     "output_type": "stream",
     "text": [
      "748\n",
      "669\n"
     ]
    }
   ],
   "source": [
    "# of unique Sastre T-Sites\n",
    "file = 'sastre_rings.txt'\n",
    "fws = get_all_fws()\n",
    "t_ring_list = []\n",
    "o_ring_list = []\n",
    "for f in fws:\n",
    "    tsites,osites = get_fw_data(file,f)\n",
    "    for t in tsites:\n",
    "        t_ring_list.append(tsites[t]) \n",
    "    for o in osites:\n",
    "        o_ring_list.append(osites[o])\n",
    "\n",
    "ut = np.unique(t_ring_list)\n",
    "print(len(ut))\n",
    "uo = np.unique(o_ring_list)\n",
    "print(len(uo))"
   ]
  },
  {
   "cell_type": "code",
   "execution_count": 124,
   "metadata": {},
   "outputs": [
    {
     "name": "stdout",
     "output_type": "stream",
     "text": [
      "('5_5_5_5_5_5_10_10_10_10', 23)\n",
      "('4_5_5_5_6_6_10_10_10_12_12_12_12', 14)\n",
      "('4_5_5_5_6_6_8_8_8_8_8_10', 14)\n",
      "('5_5_5_5_5_6_6_6_10_12', 14)\n",
      "('5_5_5_5_6_6_6_8_8_10_10_10', 14)\n",
      "('5_5_5_5_5_6_6', 10)\n",
      "('4_5_5_5_5_6_6_8_8_8_8_8_8_12_12_12_12_12_12', 9)\n",
      "('5_5_5_5_5_5_10_10_10_10_12_12_12', 9)\n",
      "('4_4_6_6_6_6_10_10_10_10_10_10_10_10_10_10_12_12_12_12_12_12_12_12_12_12_12_12_12_12_12_12_12_12_12_12', 8)\n",
      "('4_4_6_6_6_6_10_10_10_10_10_10_10_10_12_12_12_12_12_12_12_12_12_12_12_12_12_12', 7)\n"
     ]
    }
   ],
   "source": [
    "from collections import Counter\n",
    "counts = sorted(Counter(t_ring_list).items(),key = lambda item:(-item[1],item[0]))\n",
    "for c in counts[:10]:\n",
    "    print(c)"
   ]
  },
  {
   "cell_type": "code",
   "execution_count": 125,
   "metadata": {},
   "outputs": [],
   "source": [
    "# of unique Crum T-Sites\n",
    "file = 'crum_rings.txt'\n",
    "fws = get_all_fws()\n",
    "t_ring_list = []\n",
    "o_ring_list = []\n",
    "for f in fws:\n",
    "    tsites,osites = get_fw_data(file,f)\n",
    "    for t in tsites:\n",
    "        t_ring_list.append(tsites[t]) \n",
    "    for o in osites:\n",
    "        o_ring_list.append(osites[o])\n",
    "\n"
   ]
  },
  {
   "cell_type": "code",
   "execution_count": 126,
   "metadata": {},
   "outputs": [
    {
     "name": "stdout",
     "output_type": "stream",
     "text": [
      "808\n",
      "799\n"
     ]
    }
   ],
   "source": [
    "ut = np.unique(t_ring_list)\n",
    "print(len(ut))\n",
    "uo = np.unique(o_ring_list)\n",
    "print(len(uo))"
   ]
  },
  {
   "cell_type": "code",
   "execution_count": 127,
   "metadata": {},
   "outputs": [
    {
     "name": "stdout",
     "output_type": "stream",
     "text": [
      "('4_4_4_8_8_8_8', 31)\n",
      "('5_5_5_5_5_5_10_10_10_10', 25)\n",
      "('4_4_6_6_6_6', 17)\n",
      "('5_5_5_5_5_6_6_6_10', 17)\n",
      "('4_4_4_6_8_8_12', 16)\n",
      "('4_4_4_6_6_8', 14)\n",
      "('4_4_4_6_8_8', 14)\n",
      "('4_5_5_5_6_6_8_8_8_8_8_10', 14)\n",
      "('5_5_5_5_6_6_6_8_8_10_10_10', 14)\n",
      "('4_5_5_5_6_6_10_10_10_12_12_12', 13)\n"
     ]
    }
   ],
   "source": [
    "from collections import Counter\n",
    "counts = sorted(Counter(t_ring_list).items(),key = lambda item:(-item[1],item[0]))\n",
    "for c in counts[:10]:\n",
    "    print(c)"
   ]
  },
  {
   "cell_type": "code",
   "execution_count": 140,
   "metadata": {},
   "outputs": [
    {
     "name": "stdout",
     "output_type": "stream",
     "text": [
      "562\n",
      "('4-4-6-6-6-6', 40)\n",
      "('4-4-4-6-8-8', 32)\n",
      "('4-4-4-6-6-8', 30)\n",
      "('4-4-4-8-8-8_2', 30)\n",
      "('5-5-5-5-5-6', 26)\n",
      "('10_3-5-5-5-5-5_2', 21)\n",
      "('10_2-5-5-5-5-5_2', 16)\n",
      "('10_2-5-5-5_2-6-6_2', 16)\n",
      "('4-6-6_2-6_2-6_3-6_3', 16)\n",
      "('10_2-4-5-5-5-6_2', 15)\n"
     ]
    }
   ],
   "source": [
    "# of unique vertex T-Sites\n",
    "data = np.loadtxt('iza_vertex_symbols.csv',delimiter=',',dtype = str)\n",
    "tsites = data[:,2]\n",
    "ut = np.unique(tsites)\n",
    "print(len(ut))\n",
    "counts = sorted(Counter(tsites).items(),key = lambda item:(-item[1],item[0]))\n",
    "for c in counts[:10]:\n",
    "    print(c)\n"
   ]
  },
  {
   "cell_type": "code",
   "execution_count": 32,
   "metadata": {},
   "outputs": [
    {
     "data": {
      "image/png": "[encoded data removed]",
      "text/plain": [
       "<Figure size 432x288 with 1 Axes>"
      ]
     },
     "metadata": {
      "needs_background": "light"
     },
     "output_type": "display_data"
    }
   ],
   "source": [
    "# Number of unique T-sites in full IZA data set\n",
    "counts = [1460,993,808,748,562]\n",
    "xax = [1,2,3,4,5]\n",
    "plt.bar(xax,counts)\n",
    "plt.xticks(np.arange(1,6),['Total # \\nof T-Sites','Goetzke','Crum','Sastre','Vertex'])\n",
    "plt.xlabel('Ring Finding Method',weight='bold')\n",
    "plt.ylabel('Unique T-sites',weight='bold')\n",
    "plt.tight_layout()\n",
    "plt.savefig('../figures/completed-figures/unique-ts.pdf',dpi=300)\n",
    "plt.show()"
   ]
  },
  {
   "cell_type": "code",
   "execution_count": 39,
   "metadata": {},
   "outputs": [
    {
     "data": {
      "image/png": "[encoded data removed]",
      "text/plain": [
       "<Figure size 432x288 with 1 Axes>"
      ]
     },
     "metadata": {
      "needs_background": "light"
     },
     "output_type": "display_data"
    }
   ],
   "source": [
    "# Number of unique oxygen in full IZA dataset \n",
    "counts = [3219,1286,799,669]\n",
    "xax = [1,2,3,4]\n",
    "plt.bar(xax,counts)\n",
    "plt.xticks(np.arange(1,5),['Total # of \\nOxygen Sites','Goetzke','Crum','Sastre'])\n",
    "plt.xlabel('Ring Finding Method',weight='bold')\n",
    "plt.ylabel('Unique Oxygen Sites',weight='bold')\n",
    "plt.tight_layout()\n",
    "plt.savefig('../figures/completed-figures/unique-os.pdf',dpi=300)\n",
    "plt.show()"
   ]
  },
  {
   "cell_type": "code",
   "execution_count": null,
   "metadata": {},
   "outputs": [],
   "source": []
  }
 ],
 "metadata": {
  "kernelspec": {
   "display_name": "Python 3",
   "language": "python",
   "name": "python3"
  },
  "language_info": {
   "codemirror_mode": {
    "name": "ipython",
    "version": 3
   },
   "file_extension": ".py",
   "mimetype": "text/x-python",
   "name": "python",
   "nbconvert_exporter": "python",
   "pygments_lexer": "ipython3",
   "version": "3.7.6"
  }
 },
 "nbformat": 4,
 "nbformat_minor": 4
}
