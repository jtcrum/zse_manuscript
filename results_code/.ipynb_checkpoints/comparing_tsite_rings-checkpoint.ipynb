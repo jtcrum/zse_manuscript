{
 "cells": [
  {
   "cell_type": "code",
   "execution_count": 1,
   "metadata": {},
   "outputs": [],
   "source": [
    "import matplotlib.pyplot as plt\n",
    "\n",
    "import numpy as np\n",
    "\n",
    "import pandas as pd\n",
    "\n",
    "from zse.collections import *\n",
    "from zse.utilities import *\n",
    "from zse.rings import *\n",
    "\n",
    "from matplotlib import cm\n",
    "from ase.visualize import view\n",
    "\n",
    "import math\n",
    "from collections import Counter"
   ]
  },
  {
   "cell_type": "code",
   "execution_count": 3,
   "metadata": {},
   "outputs": [],
   "source": [
    "def get_fw_data(file,code):\n",
    "    file = open(file,'r')\n",
    "    data = file.readlines()\n",
    "    file.close()\n",
    "    \n",
    "    for i,line in enumerate(data):\n",
    "        fields = line.split()\n",
    "        if fields[0] == code:\n",
    "            start = i\n",
    "            break\n",
    "    \n",
    "    # go through fw chunk and get data\n",
    "    \n",
    "    t_sites = {}\n",
    "    o_sites = {}\n",
    "    for i,line in enumerate(data[start+1:]):\n",
    "        line = line.rstrip(' \\n')\n",
    "        \n",
    "        # check if the rings exist\n",
    "        \n",
    "#         if 'FAILED' in line or 'LARGE' in line:\n",
    "#             return(False,False)\n",
    "#         fields = line.split()\n",
    "        \n",
    "        # get the t site rings\n",
    "        \n",
    "        if 'T' in line and ':' in line:\n",
    "            fields = line.split(':')\n",
    "            t_sites[fields[0]]=fields[1]\n",
    "#         for x in t_sites:\n",
    "#             r = t_sites[x].split('_')\n",
    "#             if len(r)>20:\n",
    "#                 return(False,False)\n",
    "                \n",
    "        \n",
    "        # get the o site rings\n",
    "        if 'O' in line and ':' in line:\n",
    "            fields = line.split(':')\n",
    "            o_sites[fields[0]]=fields[1]\n",
    "#         for x in o_sites:\n",
    "#             r = o_sites[x]\n",
    "#             if len(r)>20:\n",
    "#                 return(False,False)\n",
    "        \n",
    "        \n",
    "        \n",
    "        fields = line.split()\n",
    "        if fields[0] == 'Framework':\n",
    "            end = i+start-1\n",
    "            break\n",
    "\n",
    "    return(t_sites,o_sites)"
   ]
  },
  {
   "cell_type": "code",
   "execution_count": 5,
   "metadata": {},
   "outputs": [],
   "source": [
    "def read_vertex(file,f):\n",
    "    file = open(file,'r')\n",
    "    data = file.readlines()\n",
    "    file.close()\n",
    "    t_sites = {}\n",
    "    for line in data:\n",
    "        if f in line:\n",
    "            fields = line.split(',')\n",
    "            temp = fields[-1].rstrip('\\n').split('-')\n",
    "            rings = []\n",
    "            for t in temp:\n",
    "                if '_' in t:\n",
    "                    size,mult = t.split('_')\n",
    "                    mult = int(mult)\n",
    "                    for i in range(mult):\n",
    "                        rings.append(size)\n",
    "                elif t == '*':\n",
    "                    pass\n",
    "                else:\n",
    "                    rings.append(t)\n",
    "            rings = '_'.join(rings)\n",
    "            t_sites[fields[1]] = rings\n",
    "    return t_sites"
   ]
  },
  {
   "cell_type": "code",
   "execution_count": 8,
   "metadata": {},
   "outputs": [
    {
     "name": "stdout",
     "output_type": "stream",
     "text": [
      "ABW ['4_2•6_3•8_4', '4_2•6_3•8_4', '4_2•6_3•8_4', '4_2•6_3•8_2']\n",
      "AFI ['4_1•6_13•12_1•14_7', '4_1•6_13•12_1', '4_1•6_13', '4_1•6_11']\n",
      "CHA ['4_3•6_1•8_6•12_1', '4_3•6_1•8_2•12_1', '4_3•6_1•8_2', '4_3•8_2•6_1']\n",
      "DFT ['4_2•6_6•8_10•10_10', '4_2•6_6•8_10', '4_2•6_6•8_10', '4_2•6_4•8_6']\n",
      "GME ['4_3•6_1•8_6•12_7', '4_3•6_1•8_2•12_1', '4_3•6_1•8_2', '4_3•8_2•6_1']\n",
      "MER ['4_3•8_4•10_10•14_14', '4_3•8_4', '4_3•8_4', '4_3•8_4']\n",
      "MON ['4_1•5_5•8_6', '4_1•5_5•8_6', '4_1•5_5•8_6', '4_1•5_4•8_4']\n",
      "NPO ['3_1•6_6•12_40', '3_1•6_6•12_40', '3_1•6_6', '3_1•6_6']\n"
     ]
    }
   ],
   "source": [
    "fws = ['ABW','AFI','CHA','DFT','GME','MER','MON','NPO']\n",
    "files = ['goetzke_rings.txt','crum_rings.txt','sastre_rings.txt','iza_vertex_symbols.csv']\n",
    "for f in fws:\n",
    "    data = []\n",
    "    for file in files:\n",
    "        if file == 'iza_vertex_symbols.csv':\n",
    "            tsites = read_vertex(file,f)\n",
    "        else:\n",
    "            tsites = get_fw_data(file,f)[0]\n",
    "        for t in tsites:\n",
    "            temp = tsites[t].split('_')\n",
    "            temp = [int(te) for te in temp]\n",
    "            counter = Counter(temp)\n",
    "            temp = ['{0}_{1}'.format(x,counter[x]) for x in counter]\n",
    "            temp = '•'.join(temp)\n",
    "            data.append(temp)\n",
    "    print(f,data)"
   ]
  },
  {
   "cell_type": "code",
   "execution_count": 85,
   "metadata": {},
   "outputs": [
    {
     "name": "stdout",
     "output_type": "stream",
     "text": [
      "[['4_3•6_2•8_7•10_7•18_5' '4_3•6_2•8_3' '4_3•6_2•8_3' '4_3•6_2•8_1']\n",
      " ['4_3•6_2•8_7•10_7•14_5' '4_3•6_2•8_3' '4_3•6_2•8_3' '4_3•6_2•8_1']\n",
      " ['4_3•6_2•8_5•10_4•12_4•14_5' '4_3•6_2•8_1•12_4' '4_3•6_2•8_1'\n",
      "  '4_3•6_2•8_1']\n",
      " ['4_2•6_1•8_6•10_6•12_1•18_26' '4_2•6_1•8_6•12_1' '4_2•6_1•8_6•12_1'\n",
      "  '4_2•6_1•8_6•12_1']\n",
      " ['4_2•6_1•8_7•10_6•14_18' '4_2•6_1•8_7' '4_2•6_1•8_7' '4_2•6_1•8_7']\n",
      " ['4_2•6_1•8_3•10_2•12_8•14_18' '4_2•6_1•8_3•12_8' '4_2•6_1•8_3'\n",
      "  '4_2•6_1•8_3']]\n"
     ]
    }
   ],
   "source": [
    "#fws = ['DFO']\n",
    "#fws = ['CZP']\n",
    "fws = ['MOZ']\n",
    "files = ['goetzke_rings.txt','crum_rings.txt','sastre_rings.txt','iza_vertex_symbols.csv']\n",
    "for f in fws:\n",
    "    data = []\n",
    "    for file in files:\n",
    "        if file == 'iza_vertex_symbols.csv':\n",
    "            tsites = read_vertex(file,f)\n",
    "        else:\n",
    "            tsites = get_fw_data(file,f)[0]\n",
    "        data2 = []\n",
    "        for t in tsites:\n",
    "            temp = tsites[t].split('_')\n",
    "            temp = [int(te) for te in temp]\n",
    "            counter = Counter(temp)\n",
    "            temp = ['{0}_{1}'.format(x,counter[x]) for x in sorted(counter)]\n",
    "            temp = '•'.join(temp)\n",
    "            data2.append(temp)\n",
    "        data.append(data2)\n",
    "data = np.array(data).T\n",
    "print(data)\n",
    "#np.savetxt('mfi.csv',data,delimiter=',',fmt='%s')\n"
   ]
  },
  {
   "cell_type": "code",
   "execution_count": null,
   "metadata": {},
   "outputs": [],
   "source": []
  }
 ],
 "metadata": {
  "kernelspec": {
   "display_name": "Python 3",
   "language": "python",
   "name": "python3"
  },
  "language_info": {
   "codemirror_mode": {
    "name": "ipython",
    "version": 3
   },
   "file_extension": ".py",
   "mimetype": "text/x-python",
   "name": "python",
   "nbconvert_exporter": "python",
   "pygments_lexer": "ipython3",
   "version": "3.7.6"
  }
 },
 "nbformat": 4,
 "nbformat_minor": 4
}
