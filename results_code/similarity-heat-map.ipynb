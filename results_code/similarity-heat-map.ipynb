{
 "cells": [
  {
   "cell_type": "code",
   "execution_count": 1,
   "metadata": {},
   "outputs": [],
   "source": [
    "import matplotlib.pyplot as plt\n",
    "\n",
    "import numpy as np\n",
    "\n",
    "import pandas as pd\n",
    "\n",
    "from zse.collections import *\n",
    "from zse.utilities import *\n",
    "from zse.rings import *\n",
    "\n",
    "from matplotlib import cm\n",
    "from ase.visualize import view\n",
    "\n",
    "import math\n",
    "from collections import Counter"
   ]
  },
  {
   "cell_type": "code",
   "execution_count": 2,
   "metadata": {},
   "outputs": [],
   "source": [
    "def get_fw_data(file,code):\n",
    "    file = open(file,'r')\n",
    "    data = file.readlines()\n",
    "    file.close()\n",
    "    \n",
    "    for i,line in enumerate(data):\n",
    "        fields = line.split()\n",
    "        if fields[0] == code:\n",
    "            start = i\n",
    "            break\n",
    "    \n",
    "    # go through fw chunk and get data\n",
    "    \n",
    "    t_sites = {}\n",
    "    o_sites = {}\n",
    "    for i,line in enumerate(data[start+1:]):\n",
    "        line = line.rstrip(' \\n')\n",
    "        \n",
    "        # check if the rings exist\n",
    "        \n",
    "#         if 'FAILED' in line or 'LARGE' in line:\n",
    "#             return(False,False)\n",
    "#         fields = line.split()\n",
    "        \n",
    "        # get the t site rings\n",
    "        \n",
    "        if 'T' in line and ':' in line:\n",
    "            fields = line.split(':')\n",
    "            t_sites[fields[0]]=fields[1]\n",
    "#         for x in t_sites:\n",
    "#             r = t_sites[x].split('_')\n",
    "#             if len(r)>20:\n",
    "#                 return(False,False)\n",
    "                \n",
    "        \n",
    "        # get the o site rings\n",
    "        if 'O' in line and ':' in line:\n",
    "            fields = line.split(':')\n",
    "            o_sites[fields[0]]=fields[1]\n",
    "#         for x in o_sites:\n",
    "#             r = o_sites[x]\n",
    "#             if len(r)>20:\n",
    "#                 return(False,False)\n",
    "        \n",
    "        \n",
    "        \n",
    "        fields = line.split()\n",
    "        if fields[0] == 'Framework':\n",
    "            end = i+start-1\n",
    "            break\n",
    "\n",
    "    return(t_sites,o_sites)"
   ]
  },
  {
   "cell_type": "code",
   "execution_count": 3,
   "metadata": {},
   "outputs": [
    {
     "name": "stdout",
     "output_type": "stream",
     "text": [
      "{'T1': '4_4_4_6_8_8_8', 'T2': '4_8_8_6_6_8_8_6_6_8', 'T3': '4_4_4_8_8_6_8', 'T4': '4_6_4_6_6_6_4_8_8_8'}\n"
     ]
    }
   ],
   "source": [
    "def read_vertex(file,f):\n",
    "    file = open(file,'r')\n",
    "    data = file.readlines()\n",
    "    file.close()\n",
    "    t_sites = {}\n",
    "    for line in data:\n",
    "        if f in line:\n",
    "            fields = line.split(',')\n",
    "            temp = fields[-1].rstrip('\\n').split('-')\n",
    "            rings = []\n",
    "            for t in temp:\n",
    "                if '_' in t:\n",
    "                    size,mult = t.split('_')\n",
    "                    mult = int(mult)\n",
    "                    for i in range(mult):\n",
    "                        rings.append(size)\n",
    "                elif t == '*':\n",
    "                    pass\n",
    "                else:\n",
    "                    rings.append(t)\n",
    "            rings = '_'.join(rings)\n",
    "            t_sites[fields[1]] = rings\n",
    "    return t_sites\n",
    "t = read_vertex('iza_vertex_symbols.csv','POR')\n",
    "print(t)\n",
    "# t = get_fw_data('crum_rings.txt','TON')[0]\n",
    "# print(t)"
   ]
  },
  {
   "cell_type": "code",
   "execution_count": 43,
   "metadata": {
    "scrolled": true
   },
   "outputs": [
    {
     "name": "stdout",
     "output_type": "stream",
     "text": [
      "230.13736202896501\n",
      "94.4629772503102\n",
      "0.4007787300563799\n",
      "0.4965842275794656\n"
     ]
    }
   ],
   "source": [
    "def dcg(result):\n",
    "    dc = []\n",
    "    for idx, val in enumerate(result): \n",
    "        numerator = 2**val - 1\n",
    "        # add 2 because python 0-index\n",
    "        denominator =  np.log2(idx + 2) \n",
    "        score = numerator/denominator\n",
    "        dc.append(score)\n",
    "    return sum(dc)\n",
    "def ndcg(result, sorted_result): \n",
    "    dc = dcg(result)\n",
    "    idc = dcg(sorted_result)\n",
    "    ndc = dc / idc\n",
    "    return ndc\n",
    "v1 = [1,2,4,5,6,9]\n",
    "v2 = [1,2,5,4,6,7]\n",
    "print(dcg(v1))\n",
    "print(dcg(v2))\n",
    "print(ndcg(v1,sorted(v1,reverse=True)))\n",
    "print(ndcg(v2,sorted(v2,reverse=True)))"
   ]
  },
  {
   "cell_type": "code",
   "execution_count": 8,
   "metadata": {},
   "outputs": [
    {
     "data": {
      "text/plain": [
       "0.8333333333333335"
      ]
     },
     "execution_count": 8,
     "metadata": {},
     "output_type": "execute_result"
    }
   ],
   "source": [
    "def cs(v1,v2):\n",
    "    c1 = Counter(v1)\n",
    "    c2 = Counter(v2)\n",
    "    terms = set(c1).union(c2)\n",
    "    dotprod = sum(c1.get(k,0)*c2.get(k,0) for k in terms)\n",
    "    magA = math.sqrt(sum(c1.get(k,0)**2 for k in terms))\n",
    "    magB = math.sqrt(sum(c2.get(k,0)**2 for k in terms))\n",
    "    return dotprod/(magA*magB)\n",
    "listA = ['apple', 'orange', 'apple', 'apple', 'banana', 'orange'] # (length = 6)\n",
    "listB = ['apple', 'orange', 'grapefruit', 'apple'] # (length = 4)\n",
    "cs(listA,listB)\n",
    "v1 = [1,2,4,5,6,9]\n",
    "v2 = [1,2,5,4,6,7]\n",
    "cs(v1,v2)"
   ]
  },
  {
   "cell_type": "code",
   "execution_count": 52,
   "metadata": {},
   "outputs": [],
   "source": [
    "def sim(v1,v2):\n",
    "    l1 = len(v1)\n",
    "    l2 = len(v2)\n",
    "    counter = 0\n",
    "    if l1 > l2:\n",
    "        for v in v2:\n",
    "            if v in v1:\n",
    "                counter += 1\n",
    "                v1.remove(v)\n",
    "    else:\n",
    "        for v in v1:\n",
    "            if v in v2:\n",
    "                counter += 1\n",
    "                v2.remove(v)\n",
    "    \n",
    "    m = max(l1,l2)\n",
    "    s = counter/m\n",
    "    return s"
   ]
  },
  {
   "cell_type": "code",
   "execution_count": 74,
   "metadata": {},
   "outputs": [
    {
     "name": "stdout",
     "output_type": "stream",
     "text": [
      "0.7287620227441489\n"
     ]
    }
   ],
   "source": [
    "file1 = 'goetzke_rings.txt'\n",
    "file2 = 'sastre_rings.txt'\n",
    "fws = get_all_fws()\n",
    "similarity = 0\n",
    "counter = 0\n",
    "sims = []\n",
    "for f in fws:\n",
    "    gt = get_fw_data(file1,f)[0]\n",
    "    st = get_fw_data(file2,f)[0]\n",
    "    for t in gt:\n",
    "        gr = [int(x) for x in gt[t].split('_')]\n",
    "        sr = [int(x) for x in st[t].split('_')]\n",
    "        s = sim(gr,sr)\n",
    "        similarity+=s\n",
    "        sims.append(s)\n",
    "        counter += 1\n",
    "#         print(f,t,s)\n",
    "print(similarity/counter)"
   ]
  },
  {
   "cell_type": "code",
   "execution_count": 75,
   "metadata": {},
   "outputs": [
    {
     "data": {
      "image/png": "[encoded data removed]",
      "text/plain": [
       "<Figure size 432x288 with 1 Axes>"
      ]
     },
     "metadata": {
      "needs_background": "light"
     },
     "output_type": "display_data"
    }
   ],
   "source": [
    "plt.hist(sims,bins=11)\n",
    "plt.show()"
   ]
  },
  {
   "cell_type": "code",
   "execution_count": 72,
   "metadata": {},
   "outputs": [
    {
     "name": "stdout",
     "output_type": "stream",
     "text": [
      "0.7638813872055722\n"
     ]
    }
   ],
   "source": [
    "file1 = 'goetzke_rings.txt'\n",
    "file2 = 'crum_rings.txt'\n",
    "fws = get_all_fws()\n",
    "similarity = 0\n",
    "counter = 0\n",
    "sims = []\n",
    "for f in fws:\n",
    "    gt = get_fw_data(file1,f)[0]\n",
    "    st = get_fw_data(file2,f)[0]\n",
    "    for t in gt:\n",
    "        gr = [int(x) for x in gt[t].split('_')]\n",
    "        sr = [int(x) for x in st[t].split('_')]\n",
    "        s = sim(gr,sr)\n",
    "        similarity+=s\n",
    "        counter += 1\n",
    "        sims.append(s)\n",
    "#         print(f,t,s)\n",
    "print(similarity/counter)\n",
    "\n"
   ]
  },
  {
   "cell_type": "code",
   "execution_count": 73,
   "metadata": {},
   "outputs": [
    {
     "data": {
      "image/png": "[encoded data removed]",
      "text/plain": [
       "<Figure size 432x288 with 1 Axes>"
      ]
     },
     "metadata": {
      "needs_background": "light"
     },
     "output_type": "display_data"
    }
   ],
   "source": [
    "plt.hist(sims,bins=11)\n",
    "plt.show()"
   ]
  },
  {
   "cell_type": "code",
   "execution_count": 67,
   "metadata": {},
   "outputs": [
    {
     "name": "stdout",
     "output_type": "stream",
     "text": [
      "0.913175487121824\n"
     ]
    }
   ],
   "source": [
    "file1 = 'sastre_rings.txt'\n",
    "file2 = 'crum_rings.txt'\n",
    "fws = get_all_fws()\n",
    "similarity = 0\n",
    "counter = 0\n",
    "sims = []\n",
    "for f in fws:\n",
    "    gt = get_fw_data(file1,f)[0]\n",
    "    st = get_fw_data(file2,f)[0]\n",
    "    for t in gt:\n",
    "        gr = [int(x) for x in gt[t].split('_')]\n",
    "        sr = [int(x) for x in st[t].split('_')]\n",
    "        s = sim(gr,sr)\n",
    "        similarity+=s\n",
    "        counter += 1\n",
    "        sims.append(s)\n",
    "#         print(f,t,s)\n",
    "print(similarity/counter)\n",
    "\n",
    "\n"
   ]
  },
  {
   "cell_type": "code",
   "execution_count": 71,
   "metadata": {},
   "outputs": [
    {
     "name": "stdout",
     "output_type": "stream",
     "text": [
      "924\n"
     ]
    },
    {
     "data": {
      "image/png": "[encoded data removed]",
      "text/plain": [
       "<Figure size 432x288 with 1 Axes>"
      ]
     },
     "metadata": {
      "needs_background": "light"
     },
     "output_type": "display_data"
    }
   ],
   "source": [
    "counter = 0\n",
    "for s in sims:\n",
    "    if s == 1:\n",
    "        counter+=1\n",
    "print(counter)\n",
    "plt.hist(sims,bins=11)\n",
    "plt.show()"
   ]
  },
  {
   "cell_type": "code",
   "execution_count": 53,
   "metadata": {},
   "outputs": [
    {
     "name": "stdout",
     "output_type": "stream",
     "text": [
      "0.8227448130556972\n"
     ]
    }
   ],
   "source": [
    "file1 = 'sastre_rings.txt'\n",
    "file2 = 'iza_vertex_symbols.csv'\n",
    "fws = get_all_fws()\n",
    "similarity = 0\n",
    "counter = 0\n",
    "for f in fws:\n",
    "    gt = get_fw_data(file1,f)[0]\n",
    "    st = read_vertex(file2,f)\n",
    "    for t in gt:\n",
    "        gr = [int(x) for x in gt[t].split('_')]\n",
    "        sr = [int(x) for x in st[t].split('_')]\n",
    "        s = sim(gr,sr)\n",
    "        similarity+=s\n",
    "        counter += 1\n",
    "print(similarity/counter)\n",
    "\n",
    "\n",
    "\n"
   ]
  },
  {
   "cell_type": "code",
   "execution_count": 54,
   "metadata": {},
   "outputs": [
    {
     "name": "stdout",
     "output_type": "stream",
     "text": [
      "0.7723900116041011\n"
     ]
    }
   ],
   "source": [
    "file1 = 'crum_rings.txt'\n",
    "file2 = 'iza_vertex_symbols.csv'\n",
    "fws = get_all_fws()\n",
    "similarity = 0\n",
    "counter = 0\n",
    "for f in fws:\n",
    "    gt = get_fw_data(file1,f)[0]\n",
    "    st = read_vertex(file2,f)\n",
    "    for t in gt:\n",
    "        gr = [int(x) for x in gt[t].split('_')]\n",
    "        sr = [int(x) for x in st[t].split('_')]\n",
    "        s = sim(gr,sr)\n",
    "        similarity+=s\n",
    "        counter += 1\n",
    "print(similarity/counter)"
   ]
  },
  {
   "cell_type": "code",
   "execution_count": 55,
   "metadata": {},
   "outputs": [
    {
     "name": "stdout",
     "output_type": "stream",
     "text": [
      "0.5857666354818196\n"
     ]
    }
   ],
   "source": [
    "file1 = 'goetzke_rings.txt'\n",
    "file2 = 'iza_vertex_symbols.csv'\n",
    "fws = get_all_fws()\n",
    "similarity = 0\n",
    "counter = 0\n",
    "for f in fws:\n",
    "    gt = get_fw_data(file1,f)[0]\n",
    "    st = read_vertex(file2,f)\n",
    "    for t in gt:\n",
    "        gr = [int(x) for x in gt[t].split('_')]\n",
    "        sr = [int(x) for x in st[t].split('_')]\n",
    "        s = sim(gr,sr)\n",
    "        similarity+=s\n",
    "        counter += 1\n",
    "print(similarity/counter)"
   ]
  },
  {
   "cell_type": "code",
   "execution_count": 95,
   "metadata": {},
   "outputs": [
    {
     "data": {
      "image/png": "[encoded data removed]",
      "text/plain": [
       "<Figure size 432x288 with 1 Axes>"
      ]
     },
     "metadata": {
      "needs_background": "light"
     },
     "output_type": "display_data"
    }
   ],
   "source": [
    "heats = np.array([[1,0.76,0.73,0.59],[0.76,1,0.91,0.77],[0.73,0.91,1,0.82],[0.59,0.77,0.82,1]])\n",
    "fig, ax = plt.subplots()\n",
    "im = ax.imshow(heats,cmap='viridis_r')\n",
    "labels = ['Rings','This Work','Shortest Path','Vertex Symbol']\n",
    "ax.set_xticks(np.arange(4))\n",
    "ax.set_yticks(np.arange(4))\n",
    "ax.set_xticklabels(labels)\n",
    "ax.set_yticklabels(labels)\n",
    "plt.setp(ax.get_xticklabels(), rotation=45, ha=\"right\", rotation_mode=\"anchor\")\n",
    "for i in range(len(labels)):\n",
    "    for j in range(len(labels)):\n",
    "        text = ax.text(j,i,heats[i,j],\n",
    "        ha = \"center\", va = \"center\", color = \"w\")\n",
    "ax.set_title('Similarity Scores',weight='bold')\n",
    "fig.tight_layout()\n",
    "plt.savefig('../figures/completed-figures/similarity-heat-map.pdf',dpi=300)\n",
    "plt.show()"
   ]
  },
  {
   "cell_type": "code",
   "execution_count": 9,
   "metadata": {},
   "outputs": [
    {
     "name": "stdout",
     "output_type": "stream",
     "text": [
      "[4, 6, 6, 6, 6, 6, 6, 6, 6, 6, 6, 6, 6, 6, 12, 14, 14, 14, 14, 14, 14, 14]\n",
      "[4, 6, 6, 6, 6, 6, 6, 6, 6, 6, 6, 6, 6, 6]\n",
      "0.8790490729915326\n"
     ]
    }
   ],
   "source": [
    "file1 = 'goetzke_rings.txt'\n",
    "file2 = 'sastre_rings.txt'\n",
    "fws = get_all_fws()\n",
    "similarity = 0\n",
    "counter = 0\n",
    "f = 'AFI'\n",
    "gt = get_fw_data(file1,f)[0]\n",
    "st = get_fw_data(file2,f)[0]\n",
    "for t in gt:\n",
    "    gr = [int(x) for x in gt[t].split('_')]\n",
    "    sr = [int(x) for x in st[t].split('_')]\n",
    "    print(gr)\n",
    "    print(sr)\n",
    "    print(cs(gr,sr))\n",
    "#     print(ndcg(sr,gr))\n",
    "#     print(ndcg(gr,sr))\n",
    "#     print(sim(gr,sr))"
   ]
  },
  {
   "cell_type": "code",
   "execution_count": 6,
   "metadata": {},
   "outputs": [
    {
     "data": {
      "text/plain": [
       "0.7777777777777778"
      ]
     },
     "execution_count": 6,
     "metadata": {},
     "output_type": "execute_result"
    }
   ],
   "source": [
    "28/(14+22)"
   ]
  },
  {
   "cell_type": "code",
   "execution_count": 7,
   "metadata": {},
   "outputs": [
    {
     "data": {
      "text/plain": [
       "0.6363636363636364"
      ]
     },
     "execution_count": 7,
     "metadata": {},
     "output_type": "execute_result"
    }
   ],
   "source": [
    "14/22"
   ]
  },
  {
   "cell_type": "code",
   "execution_count": null,
   "metadata": {},
   "outputs": [],
   "source": []
  }
 ],
 "metadata": {
  "kernelspec": {
   "display_name": "Python 3",
   "language": "python",
   "name": "python3"
  },
  "language_info": {
   "codemirror_mode": {
    "name": "ipython",
    "version": 3
   },
   "file_extension": ".py",
   "mimetype": "text/x-python",
   "name": "python",
   "nbconvert_exporter": "python",
   "pygments_lexer": "ipython3",
   "version": "3.7.6"
  }
 },
 "nbformat": 4,
 "nbformat_minor": 4
}
