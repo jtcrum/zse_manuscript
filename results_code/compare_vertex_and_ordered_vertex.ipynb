{
 "cells": [
  {
   "cell_type": "code",
   "execution_count": 10,
   "metadata": {},
   "outputs": [],
   "source": [
    "import matplotlib.pyplot as plt\n",
    "\n",
    "import numpy as np\n",
    "\n",
    "import pandas as pd\n",
    "\n",
    "from zse.collections import *\n",
    "from zse.utilities import *\n",
    "from zse.rings import *\n",
    "\n",
    "from matplotlib import cm\n",
    "\n",
    "from collections import Counter\n",
    "from collections import defaultdict as dd\n",
    "\n",
    "from itertools import permutations as perm\n",
    "\n",
    "from ase.visualize import view"
   ]
  },
  {
   "cell_type": "code",
   "execution_count": 11,
   "metadata": {},
   "outputs": [],
   "source": [
    "def get_fw_data(file,code):\n",
    "    file = open(file,'r')\n",
    "    data = file.readlines()\n",
    "    file.close()\n",
    "    \n",
    "    for i,line in enumerate(data):\n",
    "        fields = line.split()\n",
    "        if fields[0] == code:\n",
    "            start = i\n",
    "            break\n",
    "    \n",
    "    # go through fw chunk and get data\n",
    "    \n",
    "    t_sites = {}\n",
    "    o_sites = {}\n",
    "    for i,line in enumerate(data[start+1:]):\n",
    "        line = line.rstrip(' \\n')\n",
    "        \n",
    "        # check if the rings exist\n",
    "        \n",
    "#         if 'FAILED' in line or 'LARGE' in line:\n",
    "#             return(False,False)\n",
    "#         fields = line.split()\n",
    "        \n",
    "        # get the t site rings\n",
    "        \n",
    "        if 'T' in line and ':' in line:\n",
    "            fields = line.split(':')\n",
    "            t_sites[fields[0]]=fields[1]\n",
    "#         for x in t_sites:\n",
    "#             r = t_sites[x].split('_')\n",
    "#             if len(r)>20:\n",
    "#                 return(False,False)\n",
    "                \n",
    "        \n",
    "        # get the o site rings\n",
    "        if 'O' in line and ':' in line:\n",
    "            fields = line.split(':')\n",
    "            o_sites[fields[0]]=fields[1]\n",
    "#         for x in o_sites:\n",
    "#             r = o_sites[x]\n",
    "#             if len(r)>20:\n",
    "#                 return(False,False)\n",
    "        \n",
    "        \n",
    "        \n",
    "        fields = line.split()\n",
    "        if fields[0] == 'Framework':\n",
    "            end = i+start-1\n",
    "            break\n",
    "\n",
    "    return(t_sites,o_sites)    "
   ]
  },
  {
   "cell_type": "code",
   "execution_count": 12,
   "metadata": {},
   "outputs": [],
   "source": [
    "vertex = 'iza_vertex_symbols.csv'\n",
    "ov = 'ordered_vertex_rings.txt'"
   ]
  },
  {
   "cell_type": "code",
   "execution_count": 30,
   "metadata": {},
   "outputs": [
    {
     "name": "stdout",
     "output_type": "stream",
     "text": [
      "649\n"
     ]
    }
   ],
   "source": [
    "data = np.loadtxt('iza_vertex_symbols.csv',delimiter=',',dtype = str)\n",
    "v_tsites = data[:,2]\n",
    "v_frameworks = data[:,:2]\n",
    "\n",
    "counts = sorted(Counter(v_tsites).items(),key = lambda item:(-item[1],item[0]))\n",
    "print(len(counts))"
   ]
  },
  {
   "cell_type": "code",
   "execution_count": 21,
   "metadata": {},
   "outputs": [],
   "source": [
    "fws = get_all_fws()\n",
    "ov_sites = []\n",
    "for f in fws:\n",
    "    t_sites = get_fw_data(ov,f)[0]\n",
    "    for t in t_sites:\n",
    "        ov_sites.append(t_sites[t])\n"
   ]
  },
  {
   "cell_type": "code",
   "execution_count": 31,
   "metadata": {},
   "outputs": [
    {
     "name": "stdout",
     "output_type": "stream",
     "text": [
      "666\n"
     ]
    }
   ],
   "source": [
    "ov_counts = sorted(Counter(ov_sites).items(),key=lambda item:(-item[1],item[0]))\n",
    "print(len(ov_counts))"
   ]
  },
  {
   "cell_type": "code",
   "execution_count": 29,
   "metadata": {},
   "outputs": [
    {
     "data": {
      "image/png": "[encoded data removed]",
      "text/plain": [
       "<Figure size 432x288 with 1 Axes>"
      ]
     },
     "metadata": {
      "needs_background": "light"
     },
     "output_type": "display_data"
    },
    {
     "data": {
      "image/png": "[encoded data removed]",
      "text/plain": [
       "<Figure size 432x288 with 1 Axes>"
      ]
     },
     "metadata": {
      "needs_background": "light"
     },
     "output_type": "display_data"
    }
   ],
   "source": [
    "v_counts = [x[1] for x in counts]\n",
    "ov_c = [x[1] for x in ov_counts]\n",
    "s1 = [0]\n",
    "for v in v_counts:\n",
    "    s1.append(s1[-1]+v)\n",
    "plt.plot(s1)\n",
    "s2 = [0]\n",
    "for v in ov_c:\n",
    "    s2.append(s2[-1]+v)\n",
    "plt.plot(s2)\n",
    "plt.show()\n",
    "plt.plot(v_counts)\n",
    "plt.plot(ov_c)\n",
    "plt.show()"
   ]
  },
  {
   "cell_type": "code",
   "execution_count": 52,
   "metadata": {},
   "outputs": [
    {
     "name": "stdout",
     "output_type": "stream",
     "text": [
      "4_4_4_6_6_8_8_8_8_8_12_12\n",
      "4_4_6_6_6_8_10_10_10_10_12_12_12_12_12_12_12\n",
      "4_4_6_6_6_8_10_10_12_12_12_12_12_12_12_12_12_12\n",
      "4_4_4_6_6_8_8_8_8_8_10_10_10_10_12_12_12_12_12\n"
     ]
    }
   ],
   "source": [
    "tsites = get_fw_data('goetzke_rings.txt','AVE')[0]\n",
    "for t in tsites:\n",
    "    print(tsites[t])\n"
   ]
  },
  {
   "cell_type": "code",
   "execution_count": null,
   "metadata": {},
   "outputs": [],
   "source": []
  }
 ],
 "metadata": {
  "kernelspec": {
   "display_name": "Python 3",
   "language": "python",
   "name": "python3"
  },
  "language_info": {
   "codemirror_mode": {
    "name": "ipython",
    "version": 3
   },
   "file_extension": ".py",
   "mimetype": "text/x-python",
   "name": "python",
   "nbconvert_exporter": "python",
   "pygments_lexer": "ipython3",
   "version": "3.7.6"
  }
 },
 "nbformat": 4,
 "nbformat_minor": 4
}
